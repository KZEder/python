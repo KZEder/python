{
  "nbformat": 4,
  "nbformat_minor": 0,
  "metadata": {
    "colab": {
      "provenance": [],
      "authorship_tag": "ABX9TyNNo983DyEvEUcdUyC7lNHd",
      "include_colab_link": true
    },
    "kernelspec": {
      "name": "python3",
      "display_name": "Python 3"
    },
    "language_info": {
      "name": "python"
    }
  },
  "cells": [
    {
      "cell_type": "markdown",
      "metadata": {
        "id": "view-in-github",
        "colab_type": "text"
      },
      "source": [
        "<a href=\"https://colab.research.google.com/github/KZEder/python/blob/main/Untitled5.ipynb\" target=\"_parent\"><img src=\"https://colab.research.google.com/assets/colab-badge.svg\" alt=\"Open In Colab\"/></a>"
      ]
    },
    {
      "cell_type": "code",
      "execution_count": 6,
      "metadata": {
        "colab": {
          "base_uri": "https://localhost:8080/"
        },
        "id": "Z5eJeDG5dTz8",
        "outputId": "f106a7ef-7876-4bc4-98f0-88002838a16a"
      },
      "outputs": [
        {
          "output_type": "stream",
          "name": "stdout",
          "text": [
            "0 es cero\n"
          ]
        }
      ],
      "source": [
        "#Flujos de control \n",
        "# 1. Declaracion condicional if, elif, else \n",
        "x = 0\n",
        "if x < 0 :\n",
        "  print (x,'es negativo')\n",
        "elif x > 0:\n",
        "  print (x, 'es positivo')\n",
        "elif x == 0:\n",
        "  print (x,'es cero')\n",
        "else:\n",
        "  print (x,'numero que nunca hemos definido')"
      ]
    },
    {
      "cell_type": "code",
      "source": [],
      "metadata": {
        "id": "oonmUMiBfwk8"
      },
      "execution_count": null,
      "outputs": []
    }
  ]
}